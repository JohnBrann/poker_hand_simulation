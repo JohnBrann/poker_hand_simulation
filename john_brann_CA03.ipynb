{
 "cells": [
  {
   "cell_type": "code",
   "execution_count": 25,
   "metadata": {},
   "outputs": [
    {
     "name": "stdout",
     "output_type": "stream",
     "text": [
      "Drawn card: JC\n",
      "[KC, 6S, AD, 8C, 10C, 2H, 7C, 6C, JH, 2S, 9S, 4S, 9C, AH, QH, QC, 6H, 2D, QD, QS, 6D, KD, 4C, 9D, 5H, 4H, 9H, 8H, KS, 3H, JS, 7S, 10D, 4D, 3D, 10H, 2C, 3C, 7H, 8S, 8D, 7D, 3S, AS, AC, 10S, 5D, 5S, 5C, KH, JD]\n"
     ]
    }
   ],
   "source": [
    "import random\n",
    "\n",
    "# Define suits and ranks as constants\n",
    "SUITS = ['H', 'D', 'C', 'S']\n",
    "RANKS = ['2', '3', '4', '5', '6', '7', '8', '9', '10', 'J', 'Q', 'K', 'A']\n",
    "\n",
    "# Card class to represent individual cards\n",
    "class Card:\n",
    "    def __init__(self, suit, rank):\n",
    "        self.suit = suit\n",
    "        self.rank = rank\n",
    "\n",
    "    def __repr__(self):\n",
    "        return f'{self.rank}{self.suit}'\n",
    "\n",
    "# Deck class to represent the deck of cards\n",
    "class Deck:\n",
    "    def __init__(self):\n",
    "        self.cards = [Card(suit, rank) for suit in SUITS for rank in RANKS]\n",
    "    \n",
    "    def shuffle(self):\n",
    "        random.shuffle(self.cards)\n",
    "    \n",
    "    def draw_card(self):\n",
    "        return self.cards.pop() if self.cards else None\n",
    "    \n",
    "    def show_deck(self):\n",
    "        print(f'{self.cards}')\n",
    "\n",
    "# Define the main function\n",
    "def main():\n",
    "    # Create a deck of cards and shuffle it\n",
    "    deck = Deck()\n",
    "    deck.shuffle()\n",
    "\n",
    "    # Draw a card and display it\n",
    "    drawn_card = deck.draw_card()\n",
    "    print(f'Drawn card: {drawn_card}')\n",
    "\n",
    "    # Show the remaining deck\n",
    "    deck.show_deck()\n",
    "\n",
    "# This makes sure that the main() function runs only if this script is executed\n",
    "if __name__ == '__main__':\n",
    "    main()\n",
    "\n",
    "\n",
    "\n"
   ]
  }
 ],
 "metadata": {
  "kernelspec": {
   "display_name": "base",
   "language": "python",
   "name": "python3"
  },
  "language_info": {
   "codemirror_mode": {
    "name": "ipython",
    "version": 3
   },
   "file_extension": ".py",
   "mimetype": "text/x-python",
   "name": "python",
   "nbconvert_exporter": "python",
   "pygments_lexer": "ipython3",
   "version": "3.12.4"
  }
 },
 "nbformat": 4,
 "nbformat_minor": 2
}
